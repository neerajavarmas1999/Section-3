{
 "cells": [
  {
   "cell_type": "code",
   "execution_count": 1,
   "id": "a45ef28d",
   "metadata": {},
   "outputs": [
    {
     "name": "stdout",
     "output_type": "stream",
     "text": [
      "Which sentence would you like copied?Don't behave like a muppet in class.\n",
      "Don't behave like a muppet in class.\n",
      "Don't behave like a muppet in class.\n",
      "Don't behave like a muppet in class.\n",
      "Don't behave like a muppet in class.\n",
      "Don't behave like a muppet in class.\n",
      "Don't behave like a muppet in class.\n",
      "Don't behave like a muppet in class.\n",
      "Don't behave like a muppet in class.\n",
      "Don't behave like a muppet in class.\n",
      "Don't behave like a muppet in class.\n",
      "Don't behave like a muppet in class.\n",
      "Don't behave like a muppet in class.\n",
      "Don't behave like a muppet in class.\n",
      "Don't behave like a muppet in class.\n",
      "Don't behave like a muppet in class.\n",
      "Don't behave like a muppet in class.\n",
      "Don't behave like a muppet in class.\n",
      "Don't behave like a muppet in class.\n",
      "Don't behave like a muppet in class.\n",
      "Don't behave like a muppet in class.\n"
     ]
    }
   ],
   "source": [
    "#28\n",
    "sen=input(\"Which sentence would you like copied?\")\n",
    "for counter in range(20):\n",
    "    print(sen)\n"
   ]
  },
  {
   "cell_type": "code",
   "execution_count": 2,
   "id": "af191545",
   "metadata": {},
   "outputs": [
    {
     "name": "stdout",
     "output_type": "stream",
     "text": [
      "398\n",
      "193\n",
      "478\n",
      "A total of $ 2138 was raised.\n",
      "This will be doubled to:\n",
      "$ 2138 !!!\n",
      "$ 2138 !!!\n",
      "$ 2138 !!!\n"
     ]
    }
   ],
   "source": [
    "#29\n",
    "first=int(input())\n",
    "second=int(input())\n",
    "third=int(input())\n",
    "total=first+second+third\n",
    "if total<1000:\n",
    "    total=total+100\n",
    "elif total>=1000 and total<2000:\n",
    "    total=total*2\n",
    "elif total>=2000:\n",
    "    total=2000*2+(total-2000)\n",
    "print(\"A total of $\",total,\"was raised.\")\n",
    "print(\"This will be doubled to:\")\n",
    "for loop in range(3):\n",
    "    print(\"$\",total,\"!!!\")\n"
   ]
  },
  {
   "cell_type": "code",
   "execution_count": 3,
   "id": "62e6c163",
   "metadata": {},
   "outputs": [
    {
     "name": "stdout",
     "output_type": "stream",
     "text": [
      "Please enter first name:Matt\n",
      "Please enter surname:Reid\n",
      "M R MATT reid MattReid\n",
      "MattReid REID matt r m\n",
      "M R MATT reid MattReid\n",
      "MattReid REID matt r m\n",
      "M R MATT reid MattReid\n",
      "MattReid REID matt r m\n"
     ]
    }
   ],
   "source": [
    "#30\n",
    "fname=input(\"Please enter first name:\")\n",
    "sname=input(\"Please enter surname:\")\n",
    "for loop in range(3):\n",
    "    print(fname[0:1].upper()+\" \"+sname[0:1].upper()+\" \"+fname.upper()+\" \"+sname.lower()+\" \"+fname+sname)\n",
    "    print(fname+sname+\" \"+sname.upper()+\" \"+fname.lower()+\" \"+sname[0:1].lower()+\" \"+fname[0:1].lower())\n"
   ]
  },
  {
   "cell_type": "code",
   "execution_count": 4,
   "id": "86cb7455",
   "metadata": {},
   "outputs": [
    {
     "name": "stdout",
     "output_type": "stream",
     "text": [
      "Please enter the score for each ball.\n",
      "0\n",
      "2\n",
      "0\n",
      "0\n",
      "4\n",
      "6\n",
      "This over's score was: 12\n"
     ]
    }
   ],
   "source": [
    "#31\n",
    "over=0\n",
    "print(\"Please enter the score for each ball.\")\n",
    "for loop in range(6):\n",
    "    score=int(input())\n",
    "    over=over+score\n",
    "print(\"This over's score was:\",over)\n"
   ]
  },
  {
   "cell_type": "code",
   "execution_count": 6,
   "id": "56475562",
   "metadata": {},
   "outputs": [
    {
     "name": "stdout",
     "output_type": "stream",
     "text": [
      "Please enter the seven temperatures\n",
      "12\n",
      "14\n",
      "7\n",
      "6\n",
      "7\n",
      "11\n",
      "11\n",
      "This week's average was:\n",
      "9.71 degrees centigrade\n"
     ]
    }
   ],
   "source": [
    "#32\n",
    "count=0\n",
    "print(\"Please enter the seven temperatures\")\n",
    "for loop in range(7):\n",
    "    temp=int(input())\n",
    "    count=count+temp\n",
    "average=round(count/7,2)\n",
    "print(\"This week's average was:\")\n",
    "print(average,\"degrees centigrade\")\n"
   ]
  },
  {
   "cell_type": "code",
   "execution_count": 7,
   "id": "aa24b0af",
   "metadata": {},
   "outputs": [
    {
     "name": "stdout",
     "output_type": "stream",
     "text": [
      "Which sentence would you like copied?Mr Reid is the best teacher.\n",
      "How many times would you like this copied?54\n",
      "Mr Reid is the best teacher.\n",
      "Mr Reid is the best teacher.\n",
      "Mr Reid is the best teacher.\n",
      "Mr Reid is the best teacher.\n",
      "Mr Reid is the best teacher.\n",
      "Mr Reid is the best teacher.\n",
      "Mr Reid is the best teacher.\n",
      "Mr Reid is the best teacher.\n",
      "Mr Reid is the best teacher.\n",
      "Mr Reid is the best teacher.\n",
      "Mr Reid is the best teacher.\n",
      "Mr Reid is the best teacher.\n",
      "Mr Reid is the best teacher.\n",
      "Mr Reid is the best teacher.\n",
      "Mr Reid is the best teacher.\n",
      "Mr Reid is the best teacher.\n",
      "Mr Reid is the best teacher.\n",
      "Mr Reid is the best teacher.\n",
      "Mr Reid is the best teacher.\n",
      "Mr Reid is the best teacher.\n",
      "Mr Reid is the best teacher.\n",
      "Mr Reid is the best teacher.\n",
      "Mr Reid is the best teacher.\n",
      "Mr Reid is the best teacher.\n",
      "Mr Reid is the best teacher.\n",
      "Mr Reid is the best teacher.\n",
      "Mr Reid is the best teacher.\n",
      "Mr Reid is the best teacher.\n",
      "Mr Reid is the best teacher.\n",
      "Mr Reid is the best teacher.\n",
      "Mr Reid is the best teacher.\n",
      "Mr Reid is the best teacher.\n",
      "Mr Reid is the best teacher.\n",
      "Mr Reid is the best teacher.\n",
      "Mr Reid is the best teacher.\n",
      "Mr Reid is the best teacher.\n",
      "Mr Reid is the best teacher.\n",
      "Mr Reid is the best teacher.\n",
      "Mr Reid is the best teacher.\n",
      "Mr Reid is the best teacher.\n",
      "Mr Reid is the best teacher.\n",
      "Mr Reid is the best teacher.\n",
      "Mr Reid is the best teacher.\n",
      "Mr Reid is the best teacher.\n",
      "Mr Reid is the best teacher.\n",
      "Mr Reid is the best teacher.\n",
      "Mr Reid is the best teacher.\n",
      "Mr Reid is the best teacher.\n",
      "Mr Reid is the best teacher.\n",
      "Mr Reid is the best teacher.\n",
      "Mr Reid is the best teacher.\n",
      "Mr Reid is the best teacher.\n",
      "Mr Reid is the best teacher.\n",
      "Mr Reid is the best teacher.\n"
     ]
    }
   ],
   "source": [
    "#33\n",
    "sen=input(\"Which sentence would you like copied?\")\n",
    "times=int(input(\"How many times would you like this copied?\"))\n",
    "for counter in range(times):\n",
    "    print(sen)\n"
   ]
  },
  {
   "cell_type": "code",
   "execution_count": 8,
   "id": "5d69d071",
   "metadata": {},
   "outputs": [
    {
     "name": "stdout",
     "output_type": "stream",
     "text": [
      "How many charity raisers were there?6\n",
      "Enter the total raised by each:\n",
      "238\n",
      "624\n",
      "546\n",
      "333\n",
      "651\n",
      "174\n",
      "A total of $ 4566 was raised.\n",
      "This will be increased to:\n",
      "$ 4566 !!!\n",
      "$ 4566 !!!\n",
      "$ 4566 !!!\n"
     ]
    }
   ],
   "source": [
    "#34\n",
    "count=int(input(\"How many charity raisers were there?\"))\n",
    "total=0\n",
    "print(\"Enter the total raised by each:\")\n",
    "for loop in range(count):\n",
    "    amount=int(input())\n",
    "    total=total+amount\n",
    "if total<1000:\n",
    "    total=total+100\n",
    "elif total>=1000 and total<2000:\n",
    "    total=total*2\n",
    "elif total>=2000:\n",
    "    total=2000*2+(total-2000)\n",
    "print(\"A total of $\",total,\"was raised.\")\n",
    "print(\"This will be increased to:\")\n",
    "for loop in range(3):\n",
    "    print(\"$\",total,\"!!!\")\n"
   ]
  },
  {
   "cell_type": "code",
   "execution_count": 9,
   "id": "b86f30ce",
   "metadata": {},
   "outputs": [
    {
     "name": "stdout",
     "output_type": "stream",
     "text": [
      "Please enter the number of students:3\n",
      "Enter the time in seconds for each student.\n",
      "student 1\n",
      "82\n",
      "student 2\n",
      "67\n",
      "student 3\n",
      "45\n",
      "The average time for the 3 students was:\n",
      "64.67 seconds\n"
     ]
    }
   ],
   "source": [
    "#35\n",
    "number=int(input(\"Please enter the number of students:\"))\n",
    "print(\"Enter the time in seconds for each student.\")\n",
    "count=0\n",
    "for loop in range(number):\n",
    "    print(\"student\",loop+1)\n",
    "    score=int(input())\n",
    "    count=count+score\n",
    "print(\"The average time for the\",number,\"students was:\")\n",
    "print(round(count/3,2),\"seconds\")"
   ]
  },
  {
   "cell_type": "code",
   "execution_count": 10,
   "id": "55fe579d",
   "metadata": {},
   "outputs": [
    {
     "name": "stdout",
     "output_type": "stream",
     "text": [
      "Odd Numbers List\n",
      "1\n",
      "3\n",
      "5\n",
      "7\n",
      "9\n",
      "11\n"
     ]
    }
   ],
   "source": [
    "#36\n",
    "print(\"Odd Numbers List\")\n",
    "for loop in range(1,12,2):\n",
    "    print(loop)\n"
   ]
  },
  {
   "cell_type": "code",
   "execution_count": 11,
   "id": "13ac1dd5",
   "metadata": {},
   "outputs": [
    {
     "name": "stdout",
     "output_type": "stream",
     "text": [
      "The following program will display odd numbers.\n",
      "Enter the first number in the list5\n",
      "Enter the last number in the list13\n",
      "5\n",
      "7\n",
      "9\n",
      "11\n",
      "13\n"
     ]
    }
   ],
   "source": [
    "#37\n",
    "print(\"The following program will display odd numbers.\")\n",
    "first=int(input(\"Enter the first number in the list\"))\n",
    "last=int(input(\"Enter the last number in the list\"))\n",
    "for loop in range(first,last+1,2):\n",
    "    print(loop)\n"
   ]
  },
  {
   "cell_type": "code",
   "execution_count": 12,
   "id": "a9a0bf33",
   "metadata": {},
   "outputs": [
    {
     "name": "stdout",
     "output_type": "stream",
     "text": [
      "Please enter the password.snool\n",
      "Sorry, incorrect! Try again.\n",
      "Please enter the passwordornery\n",
      "Entry gained!\n"
     ]
    }
   ],
   "source": [
    "#38\n",
    "password=input(\"Please enter the password.\")\n",
    "while not(password==\"ornery\"):\n",
    "    print(\"Sorry, incorrect! Try again.\")\n",
    "    password=input(\"Please enter the password\")\n",
    "if password==\"ornery\":\n",
    "    print(\"Entry gained!\")\n"
   ]
  },
  {
   "cell_type": "code",
   "execution_count": 14,
   "id": "f1818718",
   "metadata": {},
   "outputs": [
    {
     "name": "stdout",
     "output_type": "stream",
     "text": [
      "The following program will display odd numbers\n",
      "Enter the first number in the list5\n",
      "Enter the last number in the list17\n",
      "Sorry, the number must be at least  5+20\n",
      "Please re-enter the number27\n",
      "Odd Numbers List\n",
      "5\n",
      "7\n",
      "9\n",
      "11\n",
      "13\n",
      "15\n",
      "17\n",
      "19\n",
      "21\n",
      "23\n",
      "25\n"
     ]
    }
   ],
   "source": [
    "#39\n",
    "print(\"The following program will display odd numbers\")\n",
    "first=int(input(\"Enter the first number in the list\"))\n",
    "last=int(input('Enter the last number in the list'))\n",
    "while not(last>first+20):\n",
    "    print(\"Sorry, the number must be at least \",str(first)+\"+20\")\n",
    "    last=int(input(\"Please re-enter the number\"))\n",
    "print('Odd Numbers List')\n",
    "for loop in range(first,last,2):\n",
    "    print(loop)\n",
    "\n",
    "\n"
   ]
  },
  {
   "cell_type": "code",
   "execution_count": 15,
   "id": "3be39075",
   "metadata": {},
   "outputs": [
    {
     "name": "stdout",
     "output_type": "stream",
     "text": [
      "Would you like some advice?H\n",
      "Please enter Y or N only.\n",
      "Would you like some advice?N\n",
      "Don't be silly.You definitely need advice!\n",
      "Would you like some advice?Y\n",
      "Don't feed the trolls!\n"
     ]
    }
   ],
   "source": [
    "#40\n",
    "advice=input(\"Would you like some advice?\")\n",
    "while not(advice==\"Y\" or advice==\"N\"):\n",
    "    print(\"Please enter Y or N only.\")\n",
    "    advice=input(\"Would you like some advice?\")\n",
    "while advice==\"N\":\n",
    "    print(\"Don't be silly.You definitely need advice!\")\n",
    "    advice=input(\"Would you like some advice?\")\n",
    "if advice==\"Y\":\n",
    "    print(\"Don't feed the trolls!\")\n"
   ]
  },
  {
   "cell_type": "code",
   "execution_count": 16,
   "id": "f67b4ceb",
   "metadata": {},
   "outputs": [
    {
     "name": "stdout",
     "output_type": "stream",
     "text": [
      "Please enter the price of each present:\n",
      "35\n",
      "100\n",
      "50\n",
      "45\n",
      "Limit Exceeded\n",
      "You can't include the $ 45 present.\n"
     ]
    }
   ],
   "source": [
    "#41\n",
    "print(\"Please enter the price of each present:\")\n",
    "total=0\n",
    "while not(total>200):\n",
    "    price=int(input())\n",
    "    total=total+price\n",
    "if total>200:\n",
    "    print(\"Limit Exceeded\")\n",
    "    print(\"You can't include the $\",price,\"present.\")\n"
   ]
  },
  {
   "cell_type": "code",
   "execution_count": 17,
   "id": "f9bca0c2",
   "metadata": {},
   "outputs": [
    {
     "name": "stdout",
     "output_type": "stream",
     "text": [
      "Enter your menu choice(Q, A, K or L)\n",
      "V\n",
      "V is not valid.Enter Q, A, K, or L\n",
      "L\n",
      "L selected\n"
     ]
    }
   ],
   "source": [
    "#42\n",
    "print(\"Enter your menu choice(Q, A, K or L)\")\n",
    "choice=input()\n",
    "while not(choice==\"Q\"or choice==\"A\" or choice==\"K\" or choice==\"L\" or choice==\"q\" or choice==\"a\" or choice==\"k\" or choice==\"l\"):\n",
    "    print(choice,\"is not valid.Enter Q, A, K, or L\")\n",
    "    choice=input()\n",
    "if (choice==\"Q\"or choice==\"A\" or choice==\"K\" or choice==\"L\" or choice==\"q\" or choice==\"a\" or choice==\"k\" or choice==\"l\"):\n",
    "    print(choice,'selected')\n"
   ]
  },
  {
   "cell_type": "code",
   "execution_count": 18,
   "id": "b95370b1",
   "metadata": {},
   "outputs": [
    {
     "name": "stdout",
     "output_type": "stream",
     "text": [
      "Guess the hidden number between 1 and 100.\n",
      "Enter your guess\n",
      "112\n",
      "Your guess was not valid.Enter it again.\n",
      "67\n",
      "Your guess is too high.Try again.\n",
      "50\n",
      "Your guess is too low.Try again.\n",
      "52\n",
      "Correct! Well Done.\n"
     ]
    }
   ],
   "source": [
    "#43\n",
    "print(\"Guess the hidden number between 1 and 100.\")\n",
    "print(\"Enter your guess\")\n",
    "guess=int(input())\n",
    "while not(guess==52):\n",
    "    if guess>=1 and guess<=51:\n",
    "        print(\"Your guess is too low.Try again.\")\n",
    "        guess=int(input())\n",
    "    if guess>52 and guess <=100:\n",
    "        print(\"Your guess is too high.Try again.\")\n",
    "        guess=int(input())\n",
    "    if guess>100:\n",
    "        print(\"Your guess was not valid.Enter it again.\")\n",
    "        guess=int(input())\n",
    "if guess==52:\n",
    "    print(\"Correct! Well Done.\")"
   ]
  },
  {
   "cell_type": "code",
   "execution_count": 3,
   "id": "1020779e",
   "metadata": {},
   "outputs": [
    {
     "name": "stdout",
     "output_type": "stream",
     "text": [
      "Week 1\n",
      "Please enter the seven temperatures.\n",
      "12\n",
      "14\n",
      "7\n",
      "6\n",
      "66\n",
      "Temperature should be between -40 and 55\n",
      "7\n",
      "11\n",
      "11\n",
      "Week 1 average was:\n",
      "9.71 degrees centigrade\n",
      "Week 2\n",
      "Please enter the seven temperatures.\n",
      "23\n",
      "34\n",
      "55\n",
      "25\n",
      "61\n",
      "Temperature should be between -40 and 55\n",
      "35\n",
      "55\n",
      "12\n",
      "Week 2 average was:\n",
      "34.14 degrees centigrade\n",
      "Week 3\n",
      "Please enter the seven temperatures.\n",
      "4\n",
      "52\n",
      "19\n",
      "20\n",
      "38\n",
      "47\n",
      "51\n",
      "Week 3 average was:\n",
      "33.0 degrees centigrade\n",
      "Week 4\n",
      "Please enter the seven temperatures.\n",
      "2\n",
      "56\n",
      "Temperature should be between -40 and 55\n",
      "14\n",
      "20\n",
      "11\n",
      "25\n",
      "16\n",
      "27\n",
      "Week 4 average was:\n",
      "16.43 degrees centigrade\n"
     ]
    }
   ],
   "source": [
    "#44\n",
    "for week in range(1,5):\n",
    "    print(\"Week\",week)\n",
    "    total=0\n",
    "    print(\"Please enter the seven temperatures.\")\n",
    "    for loop in range(7):\n",
    "        temp=int(input())\n",
    "        while not(temp>=-40 and temp<=55):\n",
    "            print(\"Temperature should be between -40 and 55\")\n",
    "            temp=int(input())\n",
    "        total= temp+total\n",
    "    avg=total/7\n",
    "    print(\"Week\",week,\"average was:\")\n",
    "    print(round(avg,2),\"degrees centigrade\")"
   ]
  },
  {
   "cell_type": "code",
   "execution_count": 5,
   "id": "cf6f10af",
   "metadata": {},
   "outputs": [
    {
     "name": "stdout",
     "output_type": "stream",
     "text": [
      "Please enter the scores for Player one\n",
      "34\n",
      "26\n",
      "200\n",
      "Invalid Score\n",
      "100\n",
      "Please enter the score for Player two\n",
      "78\n",
      "80\n",
      "97\n",
      "Player One scored the highest individual score.\n",
      "Player One wins!!\n"
     ]
    }
   ],
   "source": [
    "#45\n",
    "high_score= 0\n",
    "print(\"Please enter the scores for Player one\")\n",
    "for loop in range(3):\n",
    "    score = int(input())\n",
    "    while not(score >= 0 and score <= 180):\n",
    "        print(\"Invalid Score\")\n",
    "        score = int(input())\n",
    "    if score > high_score:\n",
    "        high_score=score\n",
    "        winner=\"Player One\"\n",
    "print(\"Please enter the score for Player two\")\n",
    "for loop in range(3):\n",
    "    score = int(input())\n",
    "    while not(score >= 0 and score <= 180):\n",
    "        print(\"Invalid Score\")\n",
    "        score = int(input())\n",
    "    if score > high_score:\n",
    "        winner = \"Player two\"\n",
    "print(winner,\"scored the highest individual score.\")\n",
    "print(winner,\"wins!!\")\n",
    "\n"
   ]
  },
  {
   "cell_type": "code",
   "execution_count": null,
   "id": "2f0a5467",
   "metadata": {},
   "outputs": [],
   "source": []
  }
 ],
 "metadata": {
  "kernelspec": {
   "display_name": "Python 3",
   "language": "python",
   "name": "python3"
  },
  "language_info": {
   "codemirror_mode": {
    "name": "ipython",
    "version": 3
   },
   "file_extension": ".py",
   "mimetype": "text/x-python",
   "name": "python",
   "nbconvert_exporter": "python",
   "pygments_lexer": "ipython3",
   "version": "3.8.8"
  }
 },
 "nbformat": 4,
 "nbformat_minor": 5
}
